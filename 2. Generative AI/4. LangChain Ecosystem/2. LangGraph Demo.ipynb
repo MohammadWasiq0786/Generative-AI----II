{
 "cells": [
  {
   "cell_type": "code",
   "execution_count": 1,
   "metadata": {},
   "outputs": [
    {
     "name": "stdout",
     "output_type": "stream",
     "text": [
      "ok}\n"
     ]
    }
   ],
   "source": [
    "print(\"ok}\")"
   ]
  },
  {
   "cell_type": "code",
   "execution_count": 2,
   "metadata": {},
   "outputs": [
    {
     "name": "stdout",
     "output_type": "stream",
     "text": [
      "Requirement already satisfied: langgraph==0.1.19 in /Users/myhome/Downloads/LANG/lang/lib/python3.11/site-packages (0.1.19)\n",
      "Requirement already satisfied: langchain-core<0.3,>=0.2.22 in /Users/myhome/Downloads/LANG/lang/lib/python3.11/site-packages (from langgraph==0.1.19) (0.2.43)\n",
      "Requirement already satisfied: PyYAML>=5.3 in /Users/myhome/Downloads/LANG/lang/lib/python3.11/site-packages (from langchain-core<0.3,>=0.2.22->langgraph==0.1.19) (6.0.1)\n",
      "Requirement already satisfied: jsonpatch<2.0,>=1.33 in /Users/myhome/Downloads/LANG/lang/lib/python3.11/site-packages (from langchain-core<0.3,>=0.2.22->langgraph==0.1.19) (1.33)\n",
      "Requirement already satisfied: langsmith<0.2.0,>=0.1.112 in /Users/myhome/Downloads/LANG/lang/lib/python3.11/site-packages (from langchain-core<0.3,>=0.2.22->langgraph==0.1.19) (0.1.147)\n",
      "Requirement already satisfied: packaging<25,>=23.2 in /Users/myhome/Downloads/LANG/lang/lib/python3.11/site-packages (from langchain-core<0.3,>=0.2.22->langgraph==0.1.19) (23.2)\n",
      "Requirement already satisfied: pydantic<3,>=1 in /Users/myhome/Downloads/LANG/lang/lib/python3.11/site-packages (from langchain-core<0.3,>=0.2.22->langgraph==0.1.19) (2.9.2)\n",
      "Requirement already satisfied: tenacity!=8.4.0,<9.0.0,>=8.1.0 in /Users/myhome/Downloads/LANG/lang/lib/python3.11/site-packages (from langchain-core<0.3,>=0.2.22->langgraph==0.1.19) (8.3.0)\n",
      "Requirement already satisfied: typing-extensions>=4.7 in /Users/myhome/Downloads/LANG/lang/lib/python3.11/site-packages (from langchain-core<0.3,>=0.2.22->langgraph==0.1.19) (4.11.0)\n",
      "Requirement already satisfied: jsonpointer>=1.9 in /Users/myhome/Downloads/LANG/lang/lib/python3.11/site-packages (from jsonpatch<2.0,>=1.33->langchain-core<0.3,>=0.2.22->langgraph==0.1.19) (2.4)\n",
      "Requirement already satisfied: httpx<1,>=0.23.0 in /Users/myhome/Downloads/LANG/lang/lib/python3.11/site-packages (from langsmith<0.2.0,>=0.1.112->langchain-core<0.3,>=0.2.22->langgraph==0.1.19) (0.27.0)\n",
      "Requirement already satisfied: orjson<4.0.0,>=3.9.14 in /Users/myhome/Downloads/LANG/lang/lib/python3.11/site-packages (from langsmith<0.2.0,>=0.1.112->langchain-core<0.3,>=0.2.22->langgraph==0.1.19) (3.10.3)\n",
      "Requirement already satisfied: requests<3,>=2 in /Users/myhome/Downloads/LANG/lang/lib/python3.11/site-packages (from langsmith<0.2.0,>=0.1.112->langchain-core<0.3,>=0.2.22->langgraph==0.1.19) (2.31.0)\n",
      "Requirement already satisfied: requests-toolbelt<2.0.0,>=1.0.0 in /Users/myhome/Downloads/LANG/lang/lib/python3.11/site-packages (from langsmith<0.2.0,>=0.1.112->langchain-core<0.3,>=0.2.22->langgraph==0.1.19) (1.0.0)\n",
      "Requirement already satisfied: annotated-types>=0.6.0 in /Users/myhome/Downloads/LANG/lang/lib/python3.11/site-packages (from pydantic<3,>=1->langchain-core<0.3,>=0.2.22->langgraph==0.1.19) (0.6.0)\n",
      "Requirement already satisfied: pydantic-core==2.23.4 in /Users/myhome/Downloads/LANG/lang/lib/python3.11/site-packages (from pydantic<3,>=1->langchain-core<0.3,>=0.2.22->langgraph==0.1.19) (2.23.4)\n",
      "Requirement already satisfied: anyio in /Users/myhome/Downloads/LANG/lang/lib/python3.11/site-packages (from httpx<1,>=0.23.0->langsmith<0.2.0,>=0.1.112->langchain-core<0.3,>=0.2.22->langgraph==0.1.19) (4.3.0)\n",
      "Requirement already satisfied: certifi in /Users/myhome/Downloads/LANG/lang/lib/python3.11/site-packages (from httpx<1,>=0.23.0->langsmith<0.2.0,>=0.1.112->langchain-core<0.3,>=0.2.22->langgraph==0.1.19) (2024.2.2)\n",
      "Requirement already satisfied: httpcore==1.* in /Users/myhome/Downloads/LANG/lang/lib/python3.11/site-packages (from httpx<1,>=0.23.0->langsmith<0.2.0,>=0.1.112->langchain-core<0.3,>=0.2.22->langgraph==0.1.19) (1.0.5)\n",
      "Requirement already satisfied: idna in /Users/myhome/Downloads/LANG/lang/lib/python3.11/site-packages (from httpx<1,>=0.23.0->langsmith<0.2.0,>=0.1.112->langchain-core<0.3,>=0.2.22->langgraph==0.1.19) (3.7)\n",
      "Requirement already satisfied: sniffio in /Users/myhome/Downloads/LANG/lang/lib/python3.11/site-packages (from httpx<1,>=0.23.0->langsmith<0.2.0,>=0.1.112->langchain-core<0.3,>=0.2.22->langgraph==0.1.19) (1.3.1)\n",
      "Requirement already satisfied: h11<0.15,>=0.13 in /Users/myhome/Downloads/LANG/lang/lib/python3.11/site-packages (from httpcore==1.*->httpx<1,>=0.23.0->langsmith<0.2.0,>=0.1.112->langchain-core<0.3,>=0.2.22->langgraph==0.1.19) (0.14.0)\n",
      "Requirement already satisfied: charset-normalizer<4,>=2 in /Users/myhome/Downloads/LANG/lang/lib/python3.11/site-packages (from requests<3,>=2->langsmith<0.2.0,>=0.1.112->langchain-core<0.3,>=0.2.22->langgraph==0.1.19) (3.3.2)\n",
      "Requirement already satisfied: urllib3<3,>=1.21.1 in /Users/myhome/Downloads/LANG/lang/lib/python3.11/site-packages (from requests<3,>=2->langsmith<0.2.0,>=0.1.112->langchain-core<0.3,>=0.2.22->langgraph==0.1.19) (2.2.1)\n",
      "Note: you may need to restart the kernel to use updated packages.\n"
     ]
    }
   ],
   "source": [
    "pip install langgraph==0.1.19"
   ]
  },
  {
   "cell_type": "code",
   "execution_count": 3,
   "metadata": {},
   "outputs": [],
   "source": [
    "import os\n",
    "from dotenv import load_dotenv, find_dotenv\n",
    "_ = load_dotenv(find_dotenv())\n",
    "openai_api_key = os.environ[\"OPENAI_API_KEY\"]"
   ]
  },
  {
   "cell_type": "code",
   "execution_count": 4,
   "metadata": {},
   "outputs": [],
   "source": [
    "from langchain_openai import ChatOpenAI\n",
    "\n",
    "llm = ChatOpenAI(model=\"gpt-3.5-turbo\")"
   ]
  },
  {
   "cell_type": "code",
   "execution_count": 5,
   "metadata": {},
   "outputs": [
    {
     "name": "stdout",
     "output_type": "stream",
     "text": [
      "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\n"
     ]
    }
   ],
   "source": [
    "os.environ['TAVILY_API_KEY'] = \"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\"\n",
    "print(os.getenv('TAVILY_API_KEY'))"
   ]
  },
  {
   "cell_type": "code",
   "execution_count": 7,
   "metadata": {},
   "outputs": [],
   "source": [
    "from langchain_community.tools.tavily_search import TavilySearchResults"
   ]
  },
  {
   "cell_type": "code",
   "execution_count": 8,
   "metadata": {},
   "outputs": [
    {
     "data": {
      "text/plain": [
       "[{'url': 'https://www.espncricinfo.com/story/t20-world-cup-2024-frequently-asked-questions-faqs-1435161',\n",
       "  'content': 'The 2024 T20 World Cup will be played across nine venues. Apart from Dallas and Bridgetown, there will be matches in Providence, New York, Lauderhill, North Sound, Gros Islet, Kingstown and Tarouba.'},\n",
       " {'url': 'https://www.sportsadda.com/cricket/features/t20-world-cup-2024-venues-west-indies-united-states',\n",
       "  'content': 'As many as 41 matches of the T20 World Cup 2024 including two semi-finals and the final will be played in the Caribbean across six different islands. The remaining 14 matches will be hosted in the United States across three venues. Know T20 World Cup 2024 venues. T20 World Cup 2024 venues: Two countries, nine stadiums Arnos Vale Stadium'},\n",
       " {'url': 'https://www.usatoday.com/story/sports/2024/01/05/icc-world-cup-2024-schedule/72110832007/',\n",
       "  'content': \"The series will mark Canada, USA and Uganda's first appearances at a Men's T20 World Cup.\\nLearn about the game:Understanding cricket\\nICC World Cup schedule\\nHere's the full schedule of matchups and locations for the 2024 ICC Men's T20 World Cup:\\nICC World Cup venues\\nMatches will take place in the following stadiums in the United States:\\nMatches will take place in the following stadiums in West Indies:\\nICC T20 World Cup groups\\n20 teams, split into 4 groups are participating in the tournament. The opening match of the 9th edition of the ICC Men's T20 World Cup of 2024 will be played between Canada and the U.S. on June 1 in Dallas, while the grand finale will take place on June 29 in Barbados. The top two sides from each group will progress to the Super Six phase of the tournament ahead of the knockout semi-finals and final.\\n New York City will host the much-anticipated clash between Pakistan and India on June 9, according to the schedule released by the ICC.\\n The U.S. is set to host its first ever ICC cricket tournament this year, the ICC Men’s T20 World Cup, as a co-host with West Indies.\"}]"
      ]
     },
     "execution_count": 8,
     "metadata": {},
     "output_type": "execute_result"
    }
   ],
   "source": [
    "search = TavilySearchResults(max_results=3)\n",
    "search.invoke(\"Where is the t20 worldcup  2024 played?\")"
   ]
  },
  {
   "cell_type": "code",
   "execution_count": 9,
   "metadata": {},
   "outputs": [],
   "source": [
    "tools = [search]"
   ]
  },
  {
   "cell_type": "code",
   "execution_count": 10,
   "metadata": {},
   "outputs": [
    {
     "data": {
      "text/plain": [
       "[TavilySearchResults(max_results=3)]"
      ]
     },
     "execution_count": 10,
     "metadata": {},
     "output_type": "execute_result"
    }
   ],
   "source": [
    "tools"
   ]
  },
  {
   "cell_type": "code",
   "execution_count": 11,
   "metadata": {},
   "outputs": [],
   "source": [
    "from langgraph.prebuilt import create_react_agent\n",
    "\n",
    "agent_executor = create_react_agent(llm, tools)"
   ]
  },
  {
   "cell_type": "code",
   "execution_count": 12,
   "metadata": {},
   "outputs": [
    {
     "data": {
      "text/plain": [
       "[HumanMessage(content='Where is the t20 worldcup  2024 played?', id='09746209-ced1-49df-9388-e60fc3a9fc23'),\n",
       " AIMessage(content='', additional_kwargs={'tool_calls': [{'id': 'call_BCv9HxM4UsNvevtUPL8hXFhD', 'function': {'arguments': '{\"query\":\"2024 T20 World Cup location\"}', 'name': 'tavily_search_results_json'}, 'type': 'function'}]}, response_metadata={'token_usage': {'completion_tokens': 24, 'prompt_tokens': 94, 'total_tokens': 118, 'completion_tokens_details': {'accepted_prediction_tokens': 0, 'audio_tokens': 0, 'reasoning_tokens': 0, 'rejected_prediction_tokens': 0}, 'prompt_tokens_details': {'audio_tokens': 0, 'cached_tokens': 0}}, 'model_name': 'gpt-3.5-turbo-0125', 'system_fingerprint': None, 'finish_reason': 'tool_calls', 'logprobs': None}, id='run-59d10b13-fdea-42ba-b9d7-d6b0093683bd-0', tool_calls=[{'name': 'tavily_search_results_json', 'args': {'query': '2024 T20 World Cup location'}, 'id': 'call_BCv9HxM4UsNvevtUPL8hXFhD', 'type': 'tool_call'}], usage_metadata={'input_tokens': 94, 'output_tokens': 24, 'total_tokens': 118}),\n",
       " ToolMessage(content='[{\"url\": \"https://usacricket.org/featured-news/2024-t20-world-cup-usas-venues-and-schools-engagement-program-unveiled/\", \"content\": \"The USA leg of the 2024 T20 World Cup will take place in the vibrant cities of New York, Texas (specifically Grand Prairie), and sunny Florida. Each of these locations brings its own unique charm and cricketing culture to the tournament, promising an unforgettable experience for fans and players alike. ... Eisenhower Park, the chosen location\"}, {\"url\": \"https://sportstar.thehindu.com/cricket/t20-world-cup/t20-world-cup-2024-venues-stadium-west-indies-usa-list-of-matches-cricket-news/article68225135.ece\", \"content\": \"The 2024 edition of the ICC T20 World Cup is set to begin in the West Indies and USA from June 1, 2024 with host United States taking on Canada at Dallas, Texas. The Group Stage fixtures will shuttle between the West Indies and USA before the caravan moves solely to the Windies for the Super Eight fixtures and beyond.\"}, {\"url\": \"https://www.espncricinfo.com/story/t20-world-cup-2024-frequently-asked-questions-faqs-1435161\", \"content\": \"The 2024 T20 World Cup will be played across nine venues. Apart from Dallas and Bridgetown, there will be matches in Providence, New York, Lauderhill, North Sound, Gros Islet, Kingstown and Tarouba.\"}]', name='tavily_search_results_json', id='25fb270b-5cf9-4171-904a-26493a75b50a', tool_call_id='call_BCv9HxM4UsNvevtUPL8hXFhD'),\n",
       " AIMessage(content='The 2024 T20 World Cup will be played in various locations including New York, Texas (specifically Grand Prairie), Florida, Dallas, Bridgetown, Providence, Lauderhill, North Sound, Gros Islet, Kingstown, and Tarouba.', response_metadata={'token_usage': {'completion_tokens': 55, 'prompt_tokens': 458, 'total_tokens': 513, 'completion_tokens_details': {'accepted_prediction_tokens': 0, 'audio_tokens': 0, 'reasoning_tokens': 0, 'rejected_prediction_tokens': 0}, 'prompt_tokens_details': {'audio_tokens': 0, 'cached_tokens': 0}}, 'model_name': 'gpt-3.5-turbo-0125', 'system_fingerprint': None, 'finish_reason': 'stop', 'logprobs': None}, id='run-f30b0464-c504-41de-8cf5-9586872a6129-0', usage_metadata={'input_tokens': 458, 'output_tokens': 55, 'total_tokens': 513})]"
      ]
     },
     "execution_count": 12,
     "metadata": {},
     "output_type": "execute_result"
    }
   ],
   "source": [
    "from langchain_core.messages import HumanMessage\n",
    "\n",
    "response = agent_executor.invoke({\"messages\": [HumanMessage(content=\"Where is the t20 worldcup  2024 played?\")]})\n",
    "\n",
    "response[\"messages\"]"
   ]
  },
  {
   "cell_type": "code",
   "execution_count": 13,
   "metadata": {},
   "outputs": [
    {
     "data": {
      "text/plain": [
       "[HumanMessage(content='what is python ?', id='aaaf5a1e-13cc-47b4-9dc3-d02c54a3362e'),\n",
       " AIMessage(content='', additional_kwargs={'tool_calls': [{'id': 'call_BCv9HxM4UsNvevtUPL8hXFhD', 'function': {'arguments': '{\"query\":\"Python\"}', 'name': 'tavily_search_results_json'}, 'type': 'function'}]}, response_metadata={'token_usage': {'completion_tokens': 18, 'prompt_tokens': 85, 'total_tokens': 103, 'completion_tokens_details': {'accepted_prediction_tokens': 0, 'audio_tokens': 0, 'reasoning_tokens': 0, 'rejected_prediction_tokens': 0}, 'prompt_tokens_details': {'audio_tokens': 0, 'cached_tokens': 0}}, 'model_name': 'gpt-3.5-turbo-0125', 'system_fingerprint': None, 'finish_reason': 'tool_calls', 'logprobs': None}, id='run-9bce71bb-900e-402d-8270-4ee57fc5d5d3-0', tool_calls=[{'name': 'tavily_search_results_json', 'args': {'query': 'Python'}, 'id': 'call_BCv9HxM4UsNvevtUPL8hXFhD', 'type': 'tool_call'}], usage_metadata={'input_tokens': 85, 'output_tokens': 18, 'total_tokens': 103}),\n",
       " ToolMessage(content='[{\"url\": \"https://www.geeksforgeeks.org/python-programming-language-tutorial/\", \"content\": \"Python Tutorial - Python is one of the most popular programming languages today, known for its simplicity and ease of use. Whether you\\'re just starting with coding or looking to pick up another language, Python is an excellent choice. Its clean and straightforward syntax makes it beginner-friendly, while its powerful libraries and frameworks are perfect for advanced projects.\"}, {\"url\": \"https://www.python.org/downloads/\", \"content\": \"Python for\\\\nWindows,\\\\nLinux/UNIX,\\\\nmacOS,\\\\nOther\\\\nWant to help test development versions of Python 3.13?\\\\nPrereleases,\\\\nDocker images\\\\nActive Python Releases\\\\nFor more information visit the Python Developer\\'s Guide.\\\\n 3.12.0\\\\nDownload the latest source release\\\\nDownload Python 3.12.0\\\\nDownload the latest version for Windows\\\\nDownload Python 3.12.0\\\\nDownload the latest version of Python\\\\nDownload Python 3.12.0\\\\nLooking for Python with a different OS? To verify the authenticity\\\\nof the download, grab both files and then run this command:\\\\nNote that you must use the name of the signature file, and you should use the\\\\none that\\'s appropriate to the download you\\'re verifying.\\\\n Looking for a specific release?\\\\nPython releases by version number:\\\\nView older releases\\\\nSponsors\\\\nVisionary sponsors help to host Python downloads.\\\\n Release files for currently supported releases are signed by the following:\\\\nRelease files for older releases which have now reached end-of-life may have been signed by one of the following:\\\\nYou can import a person\\'s public keys from a public keyserver network server\\\\n\"}, {\"url\": \"https://docs.python.org/3/reference/index.html\", \"content\": \"The Python Language Reference — Python 3.13.0 documentation Previous topic Python » The Python Language Reference The Python Language Reference¶ The semantics of non-essential built-in object types and of the built-in functions and modules are described in The Python Standard Library. For an informal introduction to the language, see The Python Tutorial. For C or C++ programmers, two additional manuals exist: Extending and Embedding the Python Interpreter describes the high-level picture of how to write a Python extension module, and the Python/C API Reference Manual describes the interfaces available to C/C++ programmers in detail. Operators Special method names Expression statements The import statement The type statement The if statement The while statement The for statement The with statement Complete Python programs Previous topic Python » The Python Language Reference This page is licensed under the Python Software Foundation License Version 2.\"}]', name='tavily_search_results_json', id='69a0195e-346b-41d1-a660-d6a2b9e79da9', tool_call_id='call_BCv9HxM4UsNvevtUPL8hXFhD'),\n",
       " AIMessage(content=\"Python is one of the most popular programming languages known for its simplicity and ease of use. It is widely used by beginners and advanced programmers alike. Python's clean and straightforward syntax makes it beginner-friendly, while its powerful libraries and frameworks are perfect for advanced projects.\\n\\nIf you want to learn more about Python, you can visit the [Python Tutorial](https://www.geeksforgeeks.org/python-programming-language-tutorial/).\\n\\nFor detailed documentation and references about Python, you can explore the [Python Language Reference](https://docs.python.org/3/reference/index.html).\", response_metadata={'token_usage': {'completion_tokens': 114, 'prompt_tokens': 658, 'total_tokens': 772, 'completion_tokens_details': {'accepted_prediction_tokens': 0, 'audio_tokens': 0, 'reasoning_tokens': 0, 'rejected_prediction_tokens': 0}, 'prompt_tokens_details': {'audio_tokens': 0, 'cached_tokens': 0}}, 'model_name': 'gpt-3.5-turbo-0125', 'system_fingerprint': None, 'finish_reason': 'stop', 'logprobs': None}, id='run-0cecd7f6-dac2-4a2d-aaf1-edbe79677f5a-0', usage_metadata={'input_tokens': 658, 'output_tokens': 114, 'total_tokens': 772})]"
      ]
     },
     "execution_count": 13,
     "metadata": {},
     "output_type": "execute_result"
    }
   ],
   "source": [
    "from langchain_core.messages import HumanMessage\n",
    "\n",
    "response = agent_executor.invoke({\"messages\": [HumanMessage(content=\"what is python ?\")]})\n",
    "\n",
    "response[\"messages\"]"
   ]
  },
  {
   "cell_type": "code",
   "execution_count": 14,
   "metadata": {},
   "outputs": [
    {
     "name": "stdout",
     "output_type": "stream",
     "text": [
      "{'agent': {'messages': [AIMessage(content='', additional_kwargs={'tool_calls': [{'id': 'call_fw9cOKxK3dZUVJfbrFhypbp7', 'function': {'arguments': '{\"query\":\"T20 World Cup 2024 date and location\"}', 'name': 'tavily_search_results_json'}, 'type': 'function'}]}, response_metadata={'token_usage': {'completion_tokens': 27, 'prompt_tokens': 96, 'total_tokens': 123, 'completion_tokens_details': {'accepted_prediction_tokens': 0, 'audio_tokens': 0, 'reasoning_tokens': 0, 'rejected_prediction_tokens': 0}, 'prompt_tokens_details': {'audio_tokens': 0, 'cached_tokens': 0}}, 'model_name': 'gpt-3.5-turbo-0125', 'system_fingerprint': None, 'finish_reason': 'tool_calls', 'logprobs': None}, id='run-5f2ed5bb-6a79-4a99-915f-858ea8f8d811-0', tool_calls=[{'name': 'tavily_search_results_json', 'args': {'query': 'T20 World Cup 2024 date and location'}, 'id': 'call_fw9cOKxK3dZUVJfbrFhypbp7', 'type': 'tool_call'}], usage_metadata={'input_tokens': 96, 'output_tokens': 27, 'total_tokens': 123})]}}\n",
      "----\n",
      "{'tools': {'messages': [ToolMessage(content='[{\"url\": \"https://www.sportskeeda.com/cricket/news-2024-t20-world-cup-full-schedule-complete-match-list-dates-venues-timings-ist\", \"content\": \"The full schedule of 2024 T20 World Cup Below is the full schedule of the ICC Men\\'s 2024 T20 World Cup, which will be played in the West Indies and the United States. Match 1: June 2 - United\"}, {\"url\": \"https://www.usatoday.com/story/sports/2024/01/05/icc-world-cup-2024-schedule/72110832007/\", \"content\": \"The series will mark Canada, USA and Uganda\\'s first appearances at a Men\\'s T20 World Cup.\\\\nLearn about the game:Understanding cricket\\\\nICC World Cup schedule\\\\nHere\\'s the full schedule of matchups and locations for the 2024 ICC Men\\'s T20 World Cup:\\\\nICC World Cup venues\\\\nMatches will take place in the following stadiums in the United States:\\\\nMatches will take place in the following stadiums in West Indies:\\\\nICC T20 World Cup groups\\\\n20 teams, split into 4 groups are participating in the tournament. The opening match of the 9th edition of the ICC Men\\'s T20 World Cup of 2024 will be played between Canada and the U.S. on June 1 in Dallas, while the grand finale will take place on June 29 in Barbados. The top two sides from each group will progress to the Super Six phase of the tournament ahead of the knockout semi-finals and final.\\\\n New York City will host the much-anticipated clash between Pakistan and India on June 9, according to the schedule released by the ICC.\\\\n The U.S. is set to host its first ever ICC cricket tournament this year, the ICC Men’s T20 World Cup, as a co-host with West Indies.\"}, {\"url\": \"https://www.sportingnews.com/us/cricket/news/2024-t20-cricket-world-cup-final-venue-date-schedule-icc-tournament/5a97ac0768ae45c7cc95ae6e\", \"content\": \"The 2024 T20 World Cup will feature as many as 20 teams and will be played in the Americas. ... 2024, the International Cricket Council (ICC) announced the full schedule of the 2024 T20 World Cup.\"}]', name='tavily_search_results_json', tool_call_id='call_fw9cOKxK3dZUVJfbrFhypbp7')]}}\n",
      "----\n",
      "{'agent': {'messages': [AIMessage(content='The T20 World Cup 2024 will be played in the West Indies and the United States. The opening match of the tournament will be between Canada and the U.S. on June 1 in Dallas, and the grand finale will take place on June 29 in Barbados. The US will host its first-ever ICC cricket tournament as a co-host with the West Indies.', response_metadata={'token_usage': {'completion_tokens': 77, 'prompt_tokens': 638, 'total_tokens': 715, 'completion_tokens_details': {'accepted_prediction_tokens': 0, 'audio_tokens': 0, 'reasoning_tokens': 0, 'rejected_prediction_tokens': 0}, 'prompt_tokens_details': {'audio_tokens': 0, 'cached_tokens': 0}}, 'model_name': 'gpt-3.5-turbo-0125', 'system_fingerprint': None, 'finish_reason': 'stop', 'logprobs': None}, id='run-ceb35903-5171-489a-bc78-5b45a9c2e761-0', usage_metadata={'input_tokens': 638, 'output_tokens': 77, 'total_tokens': 715})]}}\n",
      "----\n"
     ]
    }
   ],
   "source": [
    "for chunk in agent_executor.stream(\n",
    "    {\"messages\": [HumanMessage(content=\"When and Where is the t20 worldcup  2024 played?\")]}\n",
    "):\n",
    "    print(chunk)\n",
    "    print(\"----\")"
   ]
  },
  {
   "cell_type": "code",
   "execution_count": null,
   "metadata": {},
   "outputs": [],
   "source": []
  },
  {
   "cell_type": "markdown",
   "metadata": {},
   "source": [
    "## Adding memory\n",
    "* Adding memory in LangGraph is very similar to what we did with LangChain."
   ]
  },
  {
   "cell_type": "markdown",
   "metadata": {},
   "source": []
  },
  {
   "cell_type": "code",
   "execution_count": 15,
   "metadata": {},
   "outputs": [],
   "source": [
    "from langgraph.checkpoint.memory import MemorySaver\n",
    "\n",
    "memory = MemorySaver()"
   ]
  },
  {
   "cell_type": "code",
   "execution_count": 16,
   "metadata": {},
   "outputs": [],
   "source": [
    "agent_executor = create_react_agent(llm, tools, checkpointer=memory)\n",
    "\n",
    "config = {\"configurable\": {\"thread_id\": \"001\"}}"
   ]
  },
  {
   "cell_type": "code",
   "execution_count": 17,
   "metadata": {},
   "outputs": [
    {
     "name": "stdout",
     "output_type": "stream",
     "text": [
      "{'agent': {'messages': [AIMessage(content='', additional_kwargs={'tool_calls': [{'id': 'call_O5mEwYQDPqdzURs8aWmuefz1', 'function': {'arguments': '{\"query\":\"T20 World Cup 2024 winner\"}', 'name': 'tavily_search_results_json'}, 'type': 'function'}]}, response_metadata={'token_usage': {'completion_tokens': 25, 'prompt_tokens': 94, 'total_tokens': 119, 'completion_tokens_details': {'accepted_prediction_tokens': 0, 'audio_tokens': 0, 'reasoning_tokens': 0, 'rejected_prediction_tokens': 0}, 'prompt_tokens_details': {'audio_tokens': 0, 'cached_tokens': 0}}, 'model_name': 'gpt-3.5-turbo-0125', 'system_fingerprint': None, 'finish_reason': 'tool_calls', 'logprobs': None}, id='run-61cef5eb-4df7-441c-9a06-1495bafaae1b-0', tool_calls=[{'name': 'tavily_search_results_json', 'args': {'query': 'T20 World Cup 2024 winner'}, 'id': 'call_O5mEwYQDPqdzURs8aWmuefz1', 'type': 'tool_call'}], usage_metadata={'input_tokens': 94, 'output_tokens': 25, 'total_tokens': 119})]}}\n",
      "----\n",
      "{'tools': {'messages': [ToolMessage(content='[{\"url\": \"https://apnews.com/article/kohli-t20-world-cup-india-2ebeaa3d40ad31efd04b79a759540aaa\", \"content\": \"1 of 7 | . India\\'s Virat Kohli carries the winners\\' trophy as he celebrates after India won the ICC Men\\'s T20 World Cup final cricket match against South Africa at Kensington Oval in Bridgetown, Barbados, Saturday, June 29, 2024.\"}, {\"url\": \"https://indianexpress.com/article/sports/cricket/india-wins-t20-world-cup-2024-live-updates-indian-cricket-team-celebration-virat-kohli-rohit-sharma-retirement-9423593/\", \"content\": \"Virat Kohli and Rohit Sharma with T20 World Cup 2024. (Agencies) India Wins T20 World Cup Final highlights: Following Team India\\'s historic triumph, the BCCI has announced an eye-popping Rs 125 crore prize money for the Men in Blue on Sunday. After Rohit Sharma and Virat Kohli, Ravindra Jadeja has also called time on his T20I career, making the announcement on Sunday.\"}, {\"url\": \"https://apnews.com/article/t20-world-cup-final-india-south-africa-7e34991216a0e6b32e0ead3d5dbf6684\", \"content\": \"India\\'s head coach Rahul Dravid, center, and players celebrate with the winners trophy after defeating South Africa in the ICC Men\\'s T20 World Cup final cricket match at Kensington Oval in Bridgetown, Barbados, Saturday, June 29, 2024.\"}]', name='tavily_search_results_json', tool_call_id='call_O5mEwYQDPqdzURs8aWmuefz1')]}}\n",
      "----\n",
      "{'agent': {'messages': [AIMessage(content='India won the T20 World Cup 2024. They emerged victorious in the final cricket match against South Africa. The match took place at Kensington Oval in Bridgetown, Barbados on Saturday, June 29, 2024.', response_metadata={'token_usage': {'completion_tokens': 49, 'prompt_tokens': 493, 'total_tokens': 542, 'completion_tokens_details': {'accepted_prediction_tokens': 0, 'audio_tokens': 0, 'reasoning_tokens': 0, 'rejected_prediction_tokens': 0}, 'prompt_tokens_details': {'audio_tokens': 0, 'cached_tokens': 0}}, 'model_name': 'gpt-3.5-turbo-0125', 'system_fingerprint': None, 'finish_reason': 'stop', 'logprobs': None}, id='run-4b80366a-071c-490a-9116-1d2c060e8ed0-0', usage_metadata={'input_tokens': 493, 'output_tokens': 49, 'total_tokens': 542})]}}\n",
      "----\n"
     ]
    }
   ],
   "source": [
    "for chunk in agent_executor.stream(\n",
    "    {\"messages\": [HumanMessage(content=\"Who won the  t20 worldcup  2024 ?\")]}, config\n",
    "):\n",
    "    print(chunk)\n",
    "    print(\"----\")"
   ]
  },
  {
   "cell_type": "code",
   "execution_count": 18,
   "metadata": {},
   "outputs": [
    {
     "name": "stdout",
     "output_type": "stream",
     "text": [
      "{'agent': {'messages': [AIMessage(content=\"The top stars of the India team that won the T20 World Cup 2024 were Virat Kohli, Rohit Sharma, and Ravindra Jadeja. Virat Kohli and Rohit Sharma played crucial roles in the team's success, and Ravindra Jadeja also made significant contributions.\", response_metadata={'token_usage': {'completion_tokens': 63, 'prompt_tokens': 559, 'total_tokens': 622, 'completion_tokens_details': {'accepted_prediction_tokens': 0, 'audio_tokens': 0, 'reasoning_tokens': 0, 'rejected_prediction_tokens': 0}, 'prompt_tokens_details': {'audio_tokens': 0, 'cached_tokens': 0}}, 'model_name': 'gpt-3.5-turbo-0125', 'system_fingerprint': None, 'finish_reason': 'stop', 'logprobs': None}, id='run-e76ecf3b-1775-4da4-8383-88045811f5a0-0', usage_metadata={'input_tokens': 559, 'output_tokens': 63, 'total_tokens': 622})]}}\n",
      "----\n"
     ]
    }
   ],
   "source": [
    "for chunk in agent_executor.stream(\n",
    "    {\"messages\": [HumanMessage(content=\"Who were the top stars of that winner team?\")]}, config\n",
    "):\n",
    "    print(chunk)\n",
    "    print(\"----\")"
   ]
  },
  {
   "cell_type": "code",
   "execution_count": 19,
   "metadata": {},
   "outputs": [
    {
     "name": "stdout",
     "output_type": "stream",
     "text": [
      "{'agent': {'messages': [AIMessage(content='I will search for information about the T20 team we were discussing. Let me do a quick search to find the relevant details.', additional_kwargs={'tool_calls': [{'id': 'call_fy1FAs8xd5HsLZum0DZsmsDl', 'function': {'arguments': '{\"query\":\"T20 team we were talking about\"}', 'name': 'tavily_search_results_json'}, 'type': 'function'}]}, response_metadata={'token_usage': {'completion_tokens': 51, 'prompt_tokens': 91, 'total_tokens': 142, 'completion_tokens_details': {'accepted_prediction_tokens': 0, 'audio_tokens': 0, 'reasoning_tokens': 0, 'rejected_prediction_tokens': 0}, 'prompt_tokens_details': {'audio_tokens': 0, 'cached_tokens': 0}}, 'model_name': 'gpt-3.5-turbo-0125', 'system_fingerprint': None, 'finish_reason': 'tool_calls', 'logprobs': None}, id='run-6ba2c977-7f3e-41f5-8bd6-9702ac2e2ed2-0', tool_calls=[{'name': 'tavily_search_results_json', 'args': {'query': 'T20 team we were talking about'}, 'id': 'call_fy1FAs8xd5HsLZum0DZsmsDl', 'type': 'tool_call'}], usage_metadata={'input_tokens': 91, 'output_tokens': 51, 'total_tokens': 142})]}}\n",
      "----\n",
      "{'tools': {'messages': [ToolMessage(content='[{\"url\": \"https://indianexpress.com/article/sports/t20-world-cup/india-t20-world-cup-squad-announcement-live-updates-rohit-sharma-ajit-agarkar-9303268/\", \"content\": \"There were plenty of talking points after the 15-member India squad was picked for the T20 World Cup. Expect Rohit Sharma and Ajit Agarkar to address these issues: India reverting to ageing veterans Rohit Sharma and Virat Kohli; Why Rinku Singh missed out on T20 World Cup spot; Hardik Pandya being named vice-captain\"}, {\"url\": \"https://timesofindia.indiatimes.com/sports/cricket/icc-t20-world-cup-2024-india-squad-live-press-conference-today-cricket-rohit-sharma-ajit-agarkar-to-address-media/liveblog/109773321.cms\", \"content\": \"India T20 World Cup Squad Live Press Conference: The BCCI\\'s Ajit Agarkar-led national selection committee went largely with tried and tested choices while announcing the Indian team on Tuesday\"}, {\"url\": \"https://scroll.in/field/1067379/icc-t20-world-cup-2024-rohit-sharma-ajit-agarkar-on-team-selection-kl-rahuls-omission-and-more\", \"content\": \"As the competition to reach the Indian Premier League playoffs heats up, a lot of talk over the last two days has revolved around India\\'s 15-member squad for the upcoming ICC Men\\'s T20 World\"}]', name='tavily_search_results_json', tool_call_id='call_fy1FAs8xd5HsLZum0DZsmsDl')]}}\n",
      "----\n",
      "{'agent': {'messages': [AIMessage(content='The T20 team we were discussing is the Indian T20 World Cup squad. There have been discussions about various aspects of the team selection, including the inclusion of players like Rohit Sharma, Virat Kohli, and Hardik Pandya, as well as the omission of players like Rinku Singh and KL Rahul. If you would like more specific information, please let me know.', response_metadata={'token_usage': {'completion_tokens': 79, 'prompt_tokens': 487, 'total_tokens': 566, 'completion_tokens_details': {'accepted_prediction_tokens': 0, 'audio_tokens': 0, 'reasoning_tokens': 0, 'rejected_prediction_tokens': 0}, 'prompt_tokens_details': {'audio_tokens': 0, 'cached_tokens': 0}}, 'model_name': 'gpt-3.5-turbo-0125', 'system_fingerprint': None, 'finish_reason': 'stop', 'logprobs': None}, id='run-c016524b-8fc1-4a7c-8d99-bb0dad0984fc-0', usage_metadata={'input_tokens': 487, 'output_tokens': 79, 'total_tokens': 566})]}}\n",
      "----\n"
     ]
    }
   ],
   "source": [
    "config = {\"configurable\": {\"thread_id\": \"002\"}}\n",
    "\n",
    "for chunk in agent_executor.stream(\n",
    "    {\"messages\": [HumanMessage(content=\"About what team t20  we were talking?\")]}, config\n",
    "):\n",
    "    print(chunk)\n",
    "    print(\"----\")"
   ]
  },
  {
   "cell_type": "code",
   "execution_count": null,
   "metadata": {},
   "outputs": [],
   "source": []
  }
 ],
 "metadata": {
  "kernelspec": {
   "display_name": "lang",
   "language": "python",
   "name": "python3"
  },
  "language_info": {
   "codemirror_mode": {
    "name": "ipython",
    "version": 3
   },
   "file_extension": ".py",
   "mimetype": "text/x-python",
   "name": "python",
   "nbconvert_exporter": "python",
   "pygments_lexer": "ipython3",
   "version": "3.11.0"
  }
 },
 "nbformat": 4,
 "nbformat_minor": 2
}
