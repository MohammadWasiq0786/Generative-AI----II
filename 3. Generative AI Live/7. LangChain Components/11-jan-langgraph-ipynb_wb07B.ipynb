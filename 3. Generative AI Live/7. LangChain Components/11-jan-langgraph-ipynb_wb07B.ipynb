{
 "cells": [
  {
   "cell_type": "code",
   "execution_count": null,
   "metadata": {},
   "outputs": [],
   "source": [
    "# pip install langgraph==0.2.20"
   ]
  },
  {
   "cell_type": "code",
   "execution_count": 19,
   "metadata": {},
   "outputs": [],
   "source": [
    "import os\n",
    "from dotenv import load_dotenv, find_dotenv\n",
    "_ = load_dotenv(find_dotenv())\n",
    "openai_api_key = os.environ[\"OPENAI_API_KEY\"]"
   ]
  },
  {
   "cell_type": "code",
   "execution_count": 20,
   "metadata": {},
   "outputs": [],
   "source": [
    "from langchain_openai import ChatOpenAI\n",
    "\n",
    "llm = ChatOpenAI(model=\"gpt-3.5-turbo\")"
   ]
  },
  {
   "cell_type": "code",
   "execution_count": 21,
   "metadata": {},
   "outputs": [
    {
     "name": "stdout",
     "output_type": "stream",
     "text": [
      "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\n"
     ]
    }
   ],
   "source": [
    "os.environ['TAVILY_API_KEY'] = \"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\"\n",
    "print(os.getenv('TAVILY_API_KEY'))"
   ]
  },
  {
   "cell_type": "code",
   "execution_count": null,
   "metadata": {},
   "outputs": [],
   "source": [
    "from langchain_community.tools.tavily_search import TavilySearchResults"
   ]
  },
  {
   "cell_type": "code",
   "execution_count": 23,
   "metadata": {},
   "outputs": [
    {
     "data": {
      "text/plain": [
       "[{'url': 'https://www.dnaindia.com/cricket/report-australia-beats-india-3-1-to-win-bgt-2024-25-what-australian-media-wrote-3125610',\n",
       "  'content': \"Australia has shocked the cricket world by defeating India and ending their 10-year unbeaten streak to secure the Border-Gavaskar Trophy. This defeat is a bitter pill to swallow for India, who have been dominant in recent years. ... Australia's BGT victory made headlines in all major news sites. ... secure WTC final berth with 3-1 series win.\"},\n",
       " {'url': 'https://www.business-standard.com/cricket/news/border-gavaskar-trophy-winners-lists-with-captains-key-bgt-2024-25-stats-125010500101_1.html',\n",
       "  'content': 'Border Gavaskar Trophy winners lists with captains; Key BGT 2024-25 stats | News - Business Standard Home / Cricket / News / Border Gavaskar Trophy winners lists with captains; Key BGT 2024-25 stats Australia won the Border Gavaskar Trophy back after clinching India vs Australia five-match Test series 3-1 at Sydney Cricket Ground on January 5, 2025. ALSO READ:\\xa0How India fared in the Test series in Australia in the 21st century IND vs AUS: 5 reasons why India failed to retain the Border Gavaskar Trophy --------------------------------------------------------------------------- India vs Australia 5th Test highlights: Aussies beat India by 6 wickets, clinch series 3-1 ------------------------------------------------------------------------------------------ India vs Australia Test series winners and runners up with captains'}]"
      ]
     },
     "execution_count": 23,
     "metadata": {},
     "output_type": "execute_result"
    }
   ],
   "source": [
    "search = TavilySearchResults(max_results=2)\n",
    "search.invoke(\" who won the BGT in crickt\")"
   ]
  },
  {
   "cell_type": "code",
   "execution_count": 24,
   "metadata": {},
   "outputs": [],
   "source": [
    "tools =[search]"
   ]
  },
  {
   "cell_type": "code",
   "execution_count": 29,
   "metadata": {},
   "outputs": [
    {
     "data": {
      "text/plain": [
       "[TavilySearchResults(max_results=2, api_wrapper=TavilySearchAPIWrapper(tavily_api_key=SecretStr('**********')))]"
      ]
     },
     "execution_count": 29,
     "metadata": {},
     "output_type": "execute_result"
    }
   ],
   "source": [
    "tools"
   ]
  },
  {
   "cell_type": "code",
   "execution_count": 30,
   "metadata": {},
   "outputs": [],
   "source": [
    "# agent\n",
    "\n",
    "from langgraph.prebuilt import create_react_agent\n",
    "\n",
    "agent_executor = create_react_agent(llm, tools)"
   ]
  },
  {
   "cell_type": "code",
   "execution_count": 31,
   "metadata": {},
   "outputs": [],
   "source": [
    "# task \n",
    "\n",
    "from langchain_core.messages import HumanMessage\n",
    "\n"
   ]
  },
  {
   "cell_type": "code",
   "execution_count": 32,
   "metadata": {},
   "outputs": [
    {
     "data": {
      "text/plain": [
       "[HumanMessage(content='Where is the t20 worldcup  2024 played?', additional_kwargs={}, response_metadata={}, id='b1f61a70-be00-4d0b-b5c1-ac93425c2a61'),\n",
       " AIMessage(content='', additional_kwargs={'tool_calls': [{'id': 'call_wJ5qgx0DLRXdd9uThZtIoyAW', 'function': {'arguments': '{\"query\":\"T20 World Cup 2024 location\"}', 'name': 'tavily_search_results_json'}, 'type': 'function'}], 'refusal': None}, response_metadata={'token_usage': {'completion_tokens': 26, 'prompt_tokens': 94, 'total_tokens': 120, 'completion_tokens_details': {'accepted_prediction_tokens': 0, 'audio_tokens': 0, 'reasoning_tokens': 0, 'rejected_prediction_tokens': 0}, 'prompt_tokens_details': {'audio_tokens': 0, 'cached_tokens': 0}}, 'model_name': 'gpt-3.5-turbo-0125', 'system_fingerprint': None, 'finish_reason': 'tool_calls', 'logprobs': None}, id='run-7113cf08-f62b-4ef3-a450-231b738b645a-0', tool_calls=[{'name': 'tavily_search_results_json', 'args': {'query': 'T20 World Cup 2024 location'}, 'id': 'call_wJ5qgx0DLRXdd9uThZtIoyAW', 'type': 'tool_call'}], usage_metadata={'input_tokens': 94, 'output_tokens': 26, 'total_tokens': 120, 'input_token_details': {'audio': 0, 'cache_read': 0}, 'output_token_details': {'audio': 0, 'reasoning': 0}}),\n",
       " ToolMessage(content='[{\"url\": \"https://www.usatoday.com/story/sports/2024/01/05/icc-world-cup-2024-schedule/72110832007/\", \"content\": \"The series will mark Canada, USA and Uganda\\'s first appearances at a Men\\'s T20 World Cup.\\\\nLearn about the game:Understanding cricket\\\\nICC World Cup schedule\\\\nHere\\'s the full schedule of matchups and locations for the 2024 ICC Men\\'s T20 World Cup:\\\\nICC World Cup venues\\\\nMatches will take place in the following stadiums in the United States:\\\\nMatches will take place in the following stadiums in West Indies:\\\\nICC T20 World Cup groups\\\\n20 teams, split into 4 groups are participating in the tournament. The opening match of the 9th edition of the ICC Men\\'s T20 World Cup of 2024 will be played between Canada and the U.S. on June 1 in Dallas, while the grand finale will take place on June 29 in Barbados. The top two sides from each group will progress to the Super Six phase of the tournament ahead of the knockout semi-finals and final.\\\\n New York City will host the much-anticipated clash between Pakistan and India on June 9, according to the schedule released by the ICC.\\\\n The U.S. is set to host its first ever ICC cricket tournament this year, the ICC Men’s T20 World Cup, as a co-host with West Indies.\"}, {\"url\": \"https://www.bbc.com/sport/cricket/66863753\", \"content\": \"Dallas, Florida and New York have been named as venues for the ICC Men\\'s T20 World Cup in 2024 when USA hosts the event for the first time. The tournament, to be co-hosted by West Indies, will be\"}]', name='tavily_search_results_json', id='3913ee87-c37a-44b9-969f-f6892464602c', tool_call_id='call_wJ5qgx0DLRXdd9uThZtIoyAW', artifact={'query': 'T20 World Cup 2024 location', 'follow_up_questions': None, 'answer': None, 'images': [], 'results': [{'title': 'ICC T20 World Cup 2024: Schedule, venues, groups, what to know - USA TODAY', 'url': 'https://www.usatoday.com/story/sports/2024/01/05/icc-world-cup-2024-schedule/72110832007/', 'content': \"The series will mark Canada, USA and Uganda's first appearances at a Men's T20 World Cup.\\nLearn about the game:Understanding cricket\\nICC World Cup schedule\\nHere's the full schedule of matchups and locations for the 2024 ICC Men's T20 World Cup:\\nICC World Cup venues\\nMatches will take place in the following stadiums in the United States:\\nMatches will take place in the following stadiums in West Indies:\\nICC T20 World Cup groups\\n20 teams, split into 4 groups are participating in the tournament. The opening match of the 9th edition of the ICC Men's T20 World Cup of 2024 will be played between Canada and the U.S. on June 1 in Dallas, while the grand finale will take place on June 29 in Barbados. The top two sides from each group will progress to the Super Six phase of the tournament ahead of the knockout semi-finals and final.\\n New York City will host the much-anticipated clash between Pakistan and India on June 9, according to the schedule released by the ICC.\\n The U.S. is set to host its first ever ICC cricket tournament this year, the ICC Men’s T20 World Cup, as a co-host with West Indies.\", 'score': 0.9237645, 'raw_content': None}, {'title': 'T20 World Cup 2024: New York, Dallas and Florida confirmed as host ...', 'url': 'https://www.bbc.com/sport/cricket/66863753', 'content': \"Dallas, Florida and New York have been named as venues for the ICC Men's T20 World Cup in 2024 when USA hosts the event for the first time. The tournament, to be co-hosted by West Indies, will be\", 'score': 0.9008183, 'raw_content': None}], 'response_time': 1.99}),\n",
       " AIMessage(content='The T20 World Cup 2024 will be played in the United States and West Indies. Matches will take place in various stadiums in the United States, including Dallas, Florida, and New York. The opening match will be between Canada and the U.S. on June 1 in Dallas, and the grand finale will take place on June 29 in Barbados. New York City will host the match between Pakistan and India on June 9. This will be the first ICC Men’s T20 World Cup hosted by the United States.', additional_kwargs={'refusal': None}, response_metadata={'token_usage': {'completion_tokens': 110, 'prompt_tokens': 503, 'total_tokens': 613, 'completion_tokens_details': {'accepted_prediction_tokens': 0, 'audio_tokens': 0, 'reasoning_tokens': 0, 'rejected_prediction_tokens': 0}, 'prompt_tokens_details': {'audio_tokens': 0, 'cached_tokens': 0}}, 'model_name': 'gpt-3.5-turbo-0125', 'system_fingerprint': None, 'finish_reason': 'stop', 'logprobs': None}, id='run-3178adb5-fa6d-4d4b-bfff-07efc3ae07a8-0', usage_metadata={'input_tokens': 503, 'output_tokens': 110, 'total_tokens': 613, 'input_token_details': {'audio': 0, 'cache_read': 0}, 'output_token_details': {'audio': 0, 'reasoning': 0}})]"
      ]
     },
     "execution_count": 32,
     "metadata": {},
     "output_type": "execute_result"
    }
   ],
   "source": [
    "response = agent_executor.invoke({\"messages\": [HumanMessage(content=\"Where is the t20 worldcup  2024 played?\")]})\n",
    "\n",
    "response[\"messages\"]"
   ]
  },
  {
   "cell_type": "code",
   "execution_count": 33,
   "metadata": {},
   "outputs": [
    {
     "data": {
      "text/plain": [
       "[HumanMessage(content='what is python ?', additional_kwargs={}, response_metadata={}, id='cc30cc98-e06d-4e3c-875c-5794809313d9'),\n",
       " AIMessage(content='', additional_kwargs={'tool_calls': [{'id': 'call_bFHQJMGeLli6qKlbduIlxlUo', 'function': {'arguments': '{\"query\":\"Python\"}', 'name': 'tavily_search_results_json'}, 'type': 'function'}], 'refusal': None}, response_metadata={'token_usage': {'completion_tokens': 19, 'prompt_tokens': 85, 'total_tokens': 104, 'completion_tokens_details': {'accepted_prediction_tokens': 0, 'audio_tokens': 0, 'reasoning_tokens': 0, 'rejected_prediction_tokens': 0}, 'prompt_tokens_details': {'audio_tokens': 0, 'cached_tokens': 0}}, 'model_name': 'gpt-3.5-turbo-0125', 'system_fingerprint': None, 'finish_reason': 'tool_calls', 'logprobs': None}, id='run-d1d370a2-0981-43bf-942f-051ec5169c59-0', tool_calls=[{'name': 'tavily_search_results_json', 'args': {'query': 'Python'}, 'id': 'call_bFHQJMGeLli6qKlbduIlxlUo', 'type': 'tool_call'}], usage_metadata={'input_tokens': 85, 'output_tokens': 19, 'total_tokens': 104, 'input_token_details': {'audio': 0, 'cache_read': 0}, 'output_token_details': {'audio': 0, 'reasoning': 0}}),\n",
       " ToolMessage(content='[{\"url\": \"https://en.wikipedia.org/wiki/Python_(programming_language)\", \"content\": \"Other implementations\\\\nUnsupported implementations\\\\nOther just-in-time Python compilers have been developed, but are now unsupported:\\\\nCross-compilers to other languages\\\\nThere are several compilers/transpilers to high-level object languages, with either unrestricted Python, a restricted subset of Python, or a language similar to Python as the source language:\\\\nSpecialized:\\\\nOlder projects (or not to be used with Python 3.x and latest syntax):\\\\nPerformance\\\\nPerformance comparison of various Python implementations on a non-numerical (combinatorial) workload was presented at EuroSciPy \\'13.[160] Python\\'s performance compared to other programming languages is also benchmarked by The Computer Language Benchmarks Game.[161]\\\\nDevelopment\\\\nPython\\'s development is conducted largely through the Python Enhancement Proposal (PEP) process, the primary mechanism for proposing major new features, collecting community input on issues, and documenting Python design decisions.[162] Python coding style is covered in PEP\\xa08.[163] Outstanding PEPs are reviewed and commented on by the Python community and the steering council.[162]\\\\nEnhancement of the language corresponds with the development of the CPython reference implementation. Python\\xa02.7.18, released in 2020, was the last release of Python\\xa02.[35]\\\\nPython consistently ranks as one of the most popular programming languages.[36][37][38][39]\\\\nHistory\\\\nPython was conceived in the late 1980s[40] by Guido van Rossum at Centrum Wiskunde & Informatica (CWI) in the Netherlands as a successor to the ABC programming language, which was inspired by SETL,[41] capable of exception handling and interfacing with the Amoeba operating system.[10] Its implementation began in December\\xa01989.[42] Van Rossum shouldered sole responsibility for the project, as the lead developer, until 12 July 2018, when he announced his \\\\\"permanent vacation\\\\\" from his responsibilities as Python\\'s \\\\\"benevolent dictator for life\\\\\", a title the Python community bestowed upon him to reflect his long-term commitment as the project\\'s chief decision-maker.[43] In January\\xa02019, active Python core developers elected a five-member Steering Council to lead the project.[44][45]\\\\nPython 2.0 was released on 16 October 2000, with many major new features such as list comprehensions, cycle-detecting garbage collection, reference counting, and Unicode support.[46] Python\\xa03.0, released on 3 December 2008, with many of its major features backported to Python\\xa02.6.x[47] and 2.7.x. The Decimal type/class in the decimal module provides decimal floating-point numbers to a pre-defined arbitrary precision and several rounding modes.[116] The Fraction class in the fractions module provides arbitrary precision for rational numbers.[117]\\\\nDue to Python\\'s extensive mathematics library, and the third-party library NumPy that further extends the native capabilities, it is frequently used as a scientific scripting language to aid in problems such as numerical data processing and manipulation.[118][119]\\\\nProgramming examples\\\\nHello world program:\\\\nProgram to calculate the factorial of a positive integer:\\\\nLibraries\\\\nPython\\'s large standard library[120] provides tools suited to many tasks and is commonly cited as one of its greatest strengths. SageMath is a computer algebra system with a notebook interface programmable in Python: its library covers many aspects of mathematics, including algebra, combinatorics, numerical mathematics, number theory, and calculus.[197] OpenCV has Python bindings with a rich set of features for computer vision and image processing.[198]\\\\nPython is commonly used in artificial intelligence projects and machine learning projects with the help of libraries like TensorFlow, Keras, Pytorch, and scikit-learn.[199][200][201][202] As a scripting language with a modular architecture, simple syntax, and rich text processing tools, Python is often used for natural language processing.[203]\\\\nPython can also be used for graphical user interface (GUI) by using libraries like Tkinter.[204][205]\\\\nPython can also be used to create games, with libraries such as Pygame, which can make 2D games.\\\\n This is reflected in its name—a tribute to the British comedy group Monty Python[76]—and in occasionally playful approaches to tutorials and reference materials, such as the use of the terms \\\\\"spam\\\\\" and \\\\\"eggs\\\\\" (a reference to a Monty Python sketch) in examples, instead of the often-used \\\\\"foo\\\\\" and \\\\\"bar\\\\\".[77][78]\\\\nA common neologism in the Python community is pythonic, which has a wide range of meanings related to program style.\"}, {\"url\": \"https://docs.python.org/3/tutorial/index.html\", \"content\": \"After reading it, you will be able to read and\\\\nwrite Python modules and programs, and you will be ready to learn more about the\\\\nvarious Python library modules described in The Python Standard Library.\\\\n The Python interpreter and the extensive standard library are freely available\\\\nin source or binary form for all major platforms from the Python web site,\\\\nhttps://www.python.org/, and may be freely distributed. The same site also\\\\ncontains distributions of and pointers to many free third party Python modules,\\\\nprograms and tools, and additional documentation.\\\\n Whetting Your Appetite\\\\nThis Page\\\\nNavigation\\\\nThe Python Tutorial¶\\\\nPython is an easy to learn, powerful programming language. Python’s elegant syntax and dynamic typing,\\\\ntogether with its interpreted nature, make it an ideal language for scripting\\\\nand rapid application development in many areas on most platforms.\\\\n\"}]', name='tavily_search_results_json', id='d42f2056-ca58-4e88-bec4-9a214bbe0dfa', tool_call_id='call_bFHQJMGeLli6qKlbduIlxlUo', artifact={'query': 'Python', 'follow_up_questions': None, 'answer': None, 'images': [], 'results': [{'title': 'Python (programming language) - Wikipedia', 'url': 'https://en.wikipedia.org/wiki/Python_(programming_language)', 'content': 'Other implementations\\nUnsupported implementations\\nOther just-in-time Python compilers have been developed, but are now unsupported:\\nCross-compilers to other languages\\nThere are several compilers/transpilers to high-level object languages, with either unrestricted Python, a restricted subset of Python, or a language similar to Python as the source language:\\nSpecialized:\\nOlder projects (or not to be used with Python 3.x and latest syntax):\\nPerformance\\nPerformance comparison of various Python implementations on a non-numerical (combinatorial) workload was presented at EuroSciPy \\'13.[160] Python\\'s performance compared to other programming languages is also benchmarked by The Computer Language Benchmarks Game.[161]\\nDevelopment\\nPython\\'s development is conducted largely through the Python Enhancement Proposal (PEP) process, the primary mechanism for proposing major new features, collecting community input on issues, and documenting Python design decisions.[162] Python coding style is covered in PEP\\xa08.[163] Outstanding PEPs are reviewed and commented on by the Python community and the steering council.[162]\\nEnhancement of the language corresponds with the development of the CPython reference implementation. Python\\xa02.7.18, released in 2020, was the last release of Python\\xa02.[35]\\nPython consistently ranks as one of the most popular programming languages.[36][37][38][39]\\nHistory\\nPython was conceived in the late 1980s[40] by Guido van Rossum at Centrum Wiskunde & Informatica (CWI) in the Netherlands as a successor to the ABC programming language, which was inspired by SETL,[41] capable of exception handling and interfacing with the Amoeba operating system.[10] Its implementation began in December\\xa01989.[42] Van Rossum shouldered sole responsibility for the project, as the lead developer, until 12 July 2018, when he announced his \"permanent vacation\" from his responsibilities as Python\\'s \"benevolent dictator for life\", a title the Python community bestowed upon him to reflect his long-term commitment as the project\\'s chief decision-maker.[43] In January\\xa02019, active Python core developers elected a five-member Steering Council to lead the project.[44][45]\\nPython 2.0 was released on 16 October 2000, with many major new features such as list comprehensions, cycle-detecting garbage collection, reference counting, and Unicode support.[46] Python\\xa03.0, released on 3 December 2008, with many of its major features backported to Python\\xa02.6.x[47] and 2.7.x. The Decimal type/class in the decimal module provides decimal floating-point numbers to a pre-defined arbitrary precision and several rounding modes.[116] The Fraction class in the fractions module provides arbitrary precision for rational numbers.[117]\\nDue to Python\\'s extensive mathematics library, and the third-party library NumPy that further extends the native capabilities, it is frequently used as a scientific scripting language to aid in problems such as numerical data processing and manipulation.[118][119]\\nProgramming examples\\nHello world program:\\nProgram to calculate the factorial of a positive integer:\\nLibraries\\nPython\\'s large standard library[120] provides tools suited to many tasks and is commonly cited as one of its greatest strengths. SageMath is a computer algebra system with a notebook interface programmable in Python: its library covers many aspects of mathematics, including algebra, combinatorics, numerical mathematics, number theory, and calculus.[197] OpenCV has Python bindings with a rich set of features for computer vision and image processing.[198]\\nPython is commonly used in artificial intelligence projects and machine learning projects with the help of libraries like TensorFlow, Keras, Pytorch, and scikit-learn.[199][200][201][202] As a scripting language with a modular architecture, simple syntax, and rich text processing tools, Python is often used for natural language processing.[203]\\nPython can also be used for graphical user interface (GUI) by using libraries like Tkinter.[204][205]\\nPython can also be used to create games, with libraries such as Pygame, which can make 2D games.\\n This is reflected in its name—a tribute to the British comedy group Monty Python[76]—and in occasionally playful approaches to tutorials and reference materials, such as the use of the terms \"spam\" and \"eggs\" (a reference to a Monty Python sketch) in examples, instead of the often-used \"foo\" and \"bar\".[77][78]\\nA common neologism in the Python community is pythonic, which has a wide range of meanings related to program style.', 'score': 0.7366474, 'raw_content': None}, {'title': 'The Python Tutorial — Python 3.13.1 documentation', 'url': 'https://docs.python.org/3/tutorial/index.html', 'content': 'After reading it, you will be able to read and\\nwrite Python modules and programs, and you will be ready to learn more about the\\nvarious Python library modules described in The Python Standard Library.\\n The Python interpreter and the extensive standard library are freely available\\nin source or binary form for all major platforms from the Python web site,\\nhttps://www.python.org/, and may be freely distributed. The same site also\\ncontains distributions of and pointers to many free third party Python modules,\\nprograms and tools, and additional documentation.\\n Whetting Your Appetite\\nThis Page\\nNavigation\\nThe Python Tutorial¶\\nPython is an easy to learn, powerful programming language. Python’s elegant syntax and dynamic typing,\\ntogether with its interpreted nature, make it an ideal language for scripting\\nand rapid application development in many areas on most platforms.\\n', 'score': 0.595987, 'raw_content': None}], 'response_time': 1.71}),\n",
       " AIMessage(content='Python is a popular programming language known for its elegant syntax, dynamic typing, and interpreted nature. It is widely used for scripting, rapid application development, artificial intelligence projects, machine learning projects, and more. Python has a large standard library that provides tools for various tasks, making it versatile and suitable for different applications.\\n\\nFor more detailed information, you can visit the following links:\\n1. [Python Programming Language - Wikipedia](https://en.wikipedia.org/wiki/Python_(programming_language))\\n2. [Python Tutorial](https://docs.python.org/3/tutorial/index.html)', additional_kwargs={'refusal': None}, response_metadata={'token_usage': {'completion_tokens': 115, 'prompt_tokens': 1296, 'total_tokens': 1411, 'completion_tokens_details': {'accepted_prediction_tokens': 0, 'audio_tokens': 0, 'reasoning_tokens': 0, 'rejected_prediction_tokens': 0}, 'prompt_tokens_details': {'audio_tokens': 0, 'cached_tokens': 0}}, 'model_name': 'gpt-3.5-turbo-0125', 'system_fingerprint': None, 'finish_reason': 'stop', 'logprobs': None}, id='run-94df2cd5-4384-454b-b706-86c2da0b072d-0', usage_metadata={'input_tokens': 1296, 'output_tokens': 115, 'total_tokens': 1411, 'input_token_details': {'audio': 0, 'cache_read': 0}, 'output_token_details': {'audio': 0, 'reasoning': 0}})]"
      ]
     },
     "execution_count": 33,
     "metadata": {},
     "output_type": "execute_result"
    }
   ],
   "source": [
    "from langchain_core.messages import HumanMessage\n",
    "\n",
    "response = agent_executor.invoke({\"messages\": [HumanMessage(content=\"what is python ?\")]})\n",
    "\n",
    "response[\"messages\"]"
   ]
  },
  {
   "cell_type": "code",
   "execution_count": null,
   "metadata": {},
   "outputs": [],
   "source": []
  },
  {
   "cell_type": "markdown",
   "metadata": {},
   "source": [
    "# Memory "
   ]
  },
  {
   "cell_type": "code",
   "execution_count": null,
   "metadata": {},
   "outputs": [],
   "source": []
  },
  {
   "cell_type": "markdown",
   "metadata": {},
   "source": [
    "## Adding memory\n",
    "* Adding memory in LangGraph is very similar to what we did with LangChain."
   ]
  },
  {
   "cell_type": "markdown",
   "metadata": {},
   "source": []
  },
  {
   "cell_type": "code",
   "execution_count": null,
   "metadata": {},
   "outputs": [],
   "source": [
    "from langgraph.checkpoint.memory import MemorySaver\n",
    "\n",
    "memory = MemorySaver()"
   ]
  },
  {
   "cell_type": "code",
   "execution_count": null,
   "metadata": {},
   "outputs": [],
   "source": [
    "# agent_executor = create_react_agent(llm, tools)"
   ]
  },
  {
   "cell_type": "code",
   "execution_count": null,
   "metadata": {},
   "outputs": [],
   "source": [
    "agent_executor = create_react_agent(llm, tools, checkpointer=memory)\n",
    "\n",
    "config = {\"configurable\": {\"thread_id\": \"001\"}}"
   ]
  },
  {
   "cell_type": "code",
   "execution_count": 34,
   "metadata": {},
   "outputs": [
    {
     "name": "stdout",
     "output_type": "stream",
     "text": [
      "{'agent': {'messages': [AIMessage(content='', additional_kwargs={'tool_calls': [{'id': 'call_g5V1RSRGCpi7um3jxCGe6VR7', 'function': {'arguments': '{\"query\":\"T20 World Cup 2024 winner\"}', 'name': 'tavily_search_results_json'}, 'type': 'function'}], 'refusal': None}, response_metadata={'token_usage': {'completion_tokens': 26, 'prompt_tokens': 94, 'total_tokens': 120, 'completion_tokens_details': {'accepted_prediction_tokens': 0, 'audio_tokens': 0, 'reasoning_tokens': 0, 'rejected_prediction_tokens': 0}, 'prompt_tokens_details': {'audio_tokens': 0, 'cached_tokens': 0}}, 'model_name': 'gpt-3.5-turbo-0125', 'system_fingerprint': None, 'finish_reason': 'tool_calls', 'logprobs': None}, id='run-4f3f8538-d9b5-4fc0-aa0d-ea4d261d868e-0', tool_calls=[{'name': 'tavily_search_results_json', 'args': {'query': 'T20 World Cup 2024 winner'}, 'id': 'call_g5V1RSRGCpi7um3jxCGe6VR7', 'type': 'tool_call'}], usage_metadata={'input_tokens': 94, 'output_tokens': 26, 'total_tokens': 120, 'input_token_details': {'audio': 0, 'cache_read': 0}, 'output_token_details': {'audio': 0, 'reasoning': 0}})]}}\n",
      "----\n",
      "{'tools': {'messages': [ToolMessage(content='[{\"url\": \"https://apnews.com/article/t20-world-cup-final-india-south-africa-7e34991216a0e6b32e0ead3d5dbf6684\", \"content\": \"India\\'s head coach Rahul Dravid, center, and players celebrate with the winners trophy after defeating South Africa in the ICC Men\\'s T20 World Cup final cricket match at Kensington Oval in Bridgetown, Barbados, Saturday, June 29, 2024.\"}, {\"url\": \"https://indianexpress.com/article/sports/cricket/india-wins-t20-world-cup-2024-live-updates-indian-cricket-team-celebration-virat-kohli-rohit-sharma-retirement-9423593/\", \"content\": \"Virat Kohli and Rohit Sharma with T20 World Cup 2024. (Agencies) India Wins T20 World Cup Final highlights: Following Team India\\'s historic triumph, the BCCI has announced an eye-popping Rs 125 crore prize money for the Men in Blue on Sunday. After Rohit Sharma and Virat Kohli, Ravindra Jadeja has also called time on his T20I career, making the announcement on Sunday.\"}]', name='tavily_search_results_json', tool_call_id='call_g5V1RSRGCpi7um3jxCGe6VR7', artifact={'query': 'T20 World Cup 2024 winner', 'follow_up_questions': None, 'answer': None, 'images': [], 'results': [{'title': 'Team India becomes T20 World Cup 2024 champions, Virat Kohli retires ...', 'url': 'https://apnews.com/article/t20-world-cup-final-india-south-africa-7e34991216a0e6b32e0ead3d5dbf6684', 'content': \"India's head coach Rahul Dravid, center, and players celebrate with the winners trophy after defeating South Africa in the ICC Men's T20 World Cup final cricket match at Kensington Oval in Bridgetown, Barbados, Saturday, June 29, 2024.\", 'score': 0.9047265, 'raw_content': None}, {'title': 'India Wins T20 World Cup 2024 highlights: BCCI ... - The Indian Express', 'url': 'https://indianexpress.com/article/sports/cricket/india-wins-t20-world-cup-2024-live-updates-indian-cricket-team-celebration-virat-kohli-rohit-sharma-retirement-9423593/', 'content': \"Virat Kohli and Rohit Sharma with T20 World Cup 2024. (Agencies) India Wins T20 World Cup Final highlights: Following Team India's historic triumph, the BCCI has announced an eye-popping Rs 125 crore prize money for the Men in Blue on Sunday. After Rohit Sharma and Virat Kohli, Ravindra Jadeja has also called time on his T20I career, making the announcement on Sunday.\", 'score': 0.9020676, 'raw_content': None}], 'response_time': 1.87})]}}\n",
      "----\n",
      "{'agent': {'messages': [AIMessage(content='India won the T20 World Cup 2024 by defeating South Africa in the final. The match took place at Kensington Oval in Bridgetown, Barbados.', additional_kwargs={'refusal': None}, response_metadata={'token_usage': {'completion_tokens': 35, 'prompt_tokens': 391, 'total_tokens': 426, 'completion_tokens_details': {'accepted_prediction_tokens': 0, 'audio_tokens': 0, 'reasoning_tokens': 0, 'rejected_prediction_tokens': 0}, 'prompt_tokens_details': {'audio_tokens': 0, 'cached_tokens': 0}}, 'model_name': 'gpt-3.5-turbo-0125', 'system_fingerprint': None, 'finish_reason': 'stop', 'logprobs': None}, id='run-ad7cb2f8-7949-48f0-bd21-e0ec8ba2c0d0-0', usage_metadata={'input_tokens': 391, 'output_tokens': 35, 'total_tokens': 426, 'input_token_details': {'audio': 0, 'cache_read': 0}, 'output_token_details': {'audio': 0, 'reasoning': 0}})]}}\n",
      "----\n"
     ]
    }
   ],
   "source": [
    "for chunk in agent_executor.stream(\n",
    "    {\"messages\": [HumanMessage(content=\"Who won the  t20 worldcup  2024 ?\")]}, config\n",
    "):\n",
    "    print(chunk)\n",
    "    print(\"----\")"
   ]
  },
  {
   "cell_type": "code",
   "execution_count": 36,
   "metadata": {},
   "outputs": [
    {
     "name": "stdout",
     "output_type": "stream",
     "text": [
      "{'agent': {'messages': [AIMessage(content='To find out the top stars of the winning team, I will first need to retrieve information about the winning team. Let me start by looking up the winner team of the latest major sports event.', additional_kwargs={'tool_calls': [{'id': 'call_T9cIPitmHGxyGtnZB3LJCpkP', 'function': {'arguments': '{\"query\":\"winner team of the latest major sports event\"}', 'name': 'tavily_search_results_json'}, 'type': 'function'}], 'refusal': None}, response_metadata={'token_usage': {'completion_tokens': 67, 'prompt_tokens': 91, 'total_tokens': 158, 'completion_tokens_details': {'accepted_prediction_tokens': 0, 'audio_tokens': 0, 'reasoning_tokens': 0, 'rejected_prediction_tokens': 0}, 'prompt_tokens_details': {'audio_tokens': 0, 'cached_tokens': 0}}, 'model_name': 'gpt-3.5-turbo-0125', 'system_fingerprint': None, 'finish_reason': 'tool_calls', 'logprobs': None}, id='run-d53044cf-f28c-4821-8fd6-8003cfd8bbcc-0', tool_calls=[{'name': 'tavily_search_results_json', 'args': {'query': 'winner team of the latest major sports event'}, 'id': 'call_T9cIPitmHGxyGtnZB3LJCpkP', 'type': 'tool_call'}], usage_metadata={'input_tokens': 91, 'output_tokens': 67, 'total_tokens': 158, 'input_token_details': {'audio': 0, 'cache_read': 0}, 'output_token_details': {'audio': 0, 'reasoning': 0}})]}}\n",
      "----\n",
      "{'tools': {'messages': [ToolMessage(content='[{\"url\": \"https://www.topendsports.com/events/winners-lists.htm\", \"content\": \"Sports Events Winners Lists. There are many winner\\'s lists posted on this site, here are the most popular. ... Major Events Extra. ... events, nothing beats the FIFA World Cup. To see what\\'s coming up, check out the calendar of major sporting events. Latest Pages. Ballon d\\'Or 2025 Predictions; Leg Extension Exercise; Highest paid in 2024;\"}, {\"url\": \"https://www.championshiphistory.com/\", \"content\": \"Your Championship List for all major Sports: ChampionshipHistory.com is here to provide a complete reference for sports enthusiasts who need to know the championship team for a number of major sporting events. This includes past SuperBowl winners, Super Bowl MVP\\'s, World Series Winners, NBA Championship results, Stanley Cup Winners as well as college results, Billiards Championships, NASCAR\"}]', name='tavily_search_results_json', tool_call_id='call_T9cIPitmHGxyGtnZB3LJCpkP', artifact={'query': 'winner team of the latest major sports event', 'follow_up_questions': None, 'answer': None, 'images': [], 'results': [{'title': 'Sports Events Winners Lists - Topend Sports', 'url': 'https://www.topendsports.com/events/winners-lists.htm', 'content': \"Sports Events Winners Lists. There are many winner's lists posted on this site, here are the most popular. ... Major Events Extra. ... events, nothing beats the FIFA World Cup. To see what's coming up, check out the calendar of major sporting events. Latest Pages. Ballon d'Or 2025 Predictions; Leg Extension Exercise; Highest paid in 2024;\", 'score': 0.5504388, 'raw_content': None}, {'title': 'A Complete History of all Major Sports Championship Winners', 'url': 'https://www.championshiphistory.com/', 'content': \"Your Championship List for all major Sports: ChampionshipHistory.com is here to provide a complete reference for sports enthusiasts who need to know the championship team for a number of major sporting events. This includes past SuperBowl winners, Super Bowl MVP's, World Series Winners, NBA Championship results, Stanley Cup Winners as well as college results, Billiards Championships, NASCAR\", 'score': 0.5005133, 'raw_content': None}], 'response_time': 1.81})]}}\n",
      "----\n",
      "{'agent': {'messages': [AIMessage(content='I have found a source that provides lists of winners for major sports events. Let me check the source to identify the winner team of the latest major sports event, and then I will find out the top stars of that team.', additional_kwargs={'tool_calls': [{'id': 'call_FBt6fUklh2aj4V7W7wZiXO5s', 'function': {'arguments': '{\"query\":\"winner team of the latest major sports event\"}', 'name': 'tavily_search_results_json'}, 'type': 'function'}], 'refusal': None}, response_metadata={'token_usage': {'completion_tokens': 73, 'prompt_tokens': 362, 'total_tokens': 435, 'completion_tokens_details': {'accepted_prediction_tokens': 0, 'audio_tokens': 0, 'reasoning_tokens': 0, 'rejected_prediction_tokens': 0}, 'prompt_tokens_details': {'audio_tokens': 0, 'cached_tokens': 0}}, 'model_name': 'gpt-3.5-turbo-0125', 'system_fingerprint': None, 'finish_reason': 'tool_calls', 'logprobs': None}, id='run-0a1b8dc3-b2c5-4aa2-871a-da3627ee6b3e-0', tool_calls=[{'name': 'tavily_search_results_json', 'args': {'query': 'winner team of the latest major sports event'}, 'id': 'call_FBt6fUklh2aj4V7W7wZiXO5s', 'type': 'tool_call'}], usage_metadata={'input_tokens': 362, 'output_tokens': 73, 'total_tokens': 435, 'input_token_details': {'audio': 0, 'cache_read': 0}, 'output_token_details': {'audio': 0, 'reasoning': 0}})]}}\n",
      "----\n",
      "{'tools': {'messages': [ToolMessage(content='[{\"url\": \"https://www.topendsports.com/events/winners-lists.htm\", \"content\": \"Sports Events Winners Lists. There are many winner\\'s lists posted on this site, here are the most popular. ... Major Events Extra. ... events, nothing beats the FIFA World Cup. To see what\\'s coming up, check out the calendar of major sporting events. Latest Pages. Ballon d\\'Or 2025 Predictions; Leg Extension Exercise; Highest paid in 2024;\"}, {\"url\": \"https://www.foxnews.com/sports/they-were-champions-recap-major-champions-across-sports\", \"content\": \"Las Vegas Aces owner Mark Davis celebrates with the team after defeating the New York Liberty in Game 4 of the 2023 WNBA Finals at Barclays Center Oct. 18, 2023, in New York City. (Sarah Stier\"}]', name='tavily_search_results_json', tool_call_id='call_FBt6fUklh2aj4V7W7wZiXO5s', artifact={'query': 'winner team of the latest major sports event', 'follow_up_questions': None, 'answer': None, 'images': [], 'results': [{'title': 'Sports Events Winners Lists - Topend Sports', 'url': 'https://www.topendsports.com/events/winners-lists.htm', 'content': \"Sports Events Winners Lists. There are many winner's lists posted on this site, here are the most popular. ... Major Events Extra. ... events, nothing beats the FIFA World Cup. To see what's coming up, check out the calendar of major sporting events. Latest Pages. Ballon d'Or 2025 Predictions; Leg Extension Exercise; Highest paid in 2024;\", 'score': 0.5504388, 'raw_content': None}, {'title': 'They were the champions: Recap of major champions across sports', 'url': 'https://www.foxnews.com/sports/they-were-champions-recap-major-champions-across-sports', 'content': 'Las Vegas Aces owner Mark Davis celebrates with the team after defeating the New York Liberty in Game 4 of the 2023 WNBA Finals at Barclays Center Oct. 18, 2023, in New York City. (Sarah Stier', 'score': 0.40500212, 'raw_content': None}], 'response_time': 1.91})]}}\n",
      "----\n",
      "{'agent': {'messages': [AIMessage(content='The search results indicate that the Las Vegas Aces were the winners of the latest major sports event, specifically the 2023 WNBA Finals. Now, I will find out the top stars of the Las Vegas Aces team. Let me retrieve this information for you.', additional_kwargs={'tool_calls': [{'id': 'call_WM1gOjqEwUIAwPcIeaoV5ZhW', 'function': {'arguments': '{\"query\":\"top stars of Las Vegas Aces team\"}', 'name': 'tavily_search_results_json'}, 'type': 'function'}], 'refusal': None}, response_metadata={'token_usage': {'completion_tokens': 82, 'prompt_tokens': 635, 'total_tokens': 717, 'completion_tokens_details': {'accepted_prediction_tokens': 0, 'audio_tokens': 0, 'reasoning_tokens': 0, 'rejected_prediction_tokens': 0}, 'prompt_tokens_details': {'audio_tokens': 0, 'cached_tokens': 0}}, 'model_name': 'gpt-3.5-turbo-0125', 'system_fingerprint': None, 'finish_reason': 'tool_calls', 'logprobs': None}, id='run-b9ec9137-bb05-44b3-9de2-2728ed14b72e-0', tool_calls=[{'name': 'tavily_search_results_json', 'args': {'query': 'top stars of Las Vegas Aces team'}, 'id': 'call_WM1gOjqEwUIAwPcIeaoV5ZhW', 'type': 'tool_call'}], usage_metadata={'input_tokens': 635, 'output_tokens': 82, 'total_tokens': 717, 'input_token_details': {'audio': 0, 'cache_read': 0}, 'output_token_details': {'audio': 0, 'reasoning': 0}})]}}\n",
      "----\n",
      "{'tools': {'messages': [ToolMessage(content='[{\"url\": \"https://www.reviewjournal.com/sports/aces/the-greatest-who-are-the-best-aces-since-relocating-to-las-vegas-2779255/\", \"content\": \"Las Vegas Aces forward and 2022 WNBA MVP A\\'ja Wilson, holding the 2022 WNBA Championship trophy, celebrates with a crowd of hometown fans during a parade for her team, Tuesday, Sept. 20, 2022, on\"}, {\"url\": \"https://www.basketball-reference.com/wnba/teams/SAS/leaders_career.html\", \"content\": \"Las Vegas Aces career leaders. ... Las Vegas Aces. Location: Paradise, Nevada Team Names: Utah Starzz, San Antonio Stars, Las Vegas Aces Seasons: 29; 1997 to 2025 Record: 455-479, .487 W-L% Playoff Appearances: 15 Championships: 2 More Franchise Info.\"}]', name='tavily_search_results_json', tool_call_id='call_WM1gOjqEwUIAwPcIeaoV5ZhW', artifact={'query': 'top stars of Las Vegas Aces team', 'follow_up_questions': None, 'answer': None, 'images': [], 'results': [{'title': 'Top 5 Aces since Las Vegas relocation | Aces | Sports', 'url': 'https://www.reviewjournal.com/sports/aces/the-greatest-who-are-the-best-aces-since-relocating-to-las-vegas-2779255/', 'content': \"Las Vegas Aces forward and 2022 WNBA MVP A'ja Wilson, holding the 2022 WNBA Championship trophy, celebrates with a crowd of hometown fans during a parade for her team, Tuesday, Sept. 20, 2022, on\", 'score': 0.6578248, 'raw_content': None}, {'title': 'Las Vegas Aces - Basketball-Reference.com', 'url': 'https://www.basketball-reference.com/wnba/teams/SAS/leaders_career.html', 'content': 'Las Vegas Aces career leaders. ... Las Vegas Aces. Location: Paradise, Nevada Team Names: Utah Starzz, San Antonio Stars, Las Vegas Aces Seasons: 29; 1997 to 2025 Record: 455-479, .487 W-L% Playoff Appearances: 15 Championships: 2 More Franchise Info.', 'score': 0.6543875, 'raw_content': None}], 'response_time': 1.78})]}}\n",
      "----\n",
      "{'agent': {'messages': [AIMessage(content=\"The top stars of the Las Vegas Aces team include forward and 2022 WNBA MVP A'ja Wilson. She is one of the standout players on the team. If you would like more information about other top stars or specific players on the Las Vegas Aces team, feel free to let me know!\", additional_kwargs={'refusal': None}, response_metadata={'token_usage': {'completion_tokens': 65, 'prompt_tokens': 934, 'total_tokens': 999, 'completion_tokens_details': {'accepted_prediction_tokens': 0, 'audio_tokens': 0, 'reasoning_tokens': 0, 'rejected_prediction_tokens': 0}, 'prompt_tokens_details': {'audio_tokens': 0, 'cached_tokens': 0}}, 'model_name': 'gpt-3.5-turbo-0125', 'system_fingerprint': None, 'finish_reason': 'stop', 'logprobs': None}, id='run-491aba1c-d7ba-4ec7-8e1e-08358853ad6d-0', usage_metadata={'input_tokens': 934, 'output_tokens': 65, 'total_tokens': 999, 'input_token_details': {'audio': 0, 'cache_read': 0}, 'output_token_details': {'audio': 0, 'reasoning': 0}})]}}\n",
      "----\n"
     ]
    }
   ],
   "source": [
    "for chunk in agent_executor.stream(\n",
    "    {\"messages\": [HumanMessage(content=\"Who were the top stars of that winner team?\")]}, config\n",
    "):\n",
    "    print(chunk)\n",
    "    print(\"----\")"
   ]
  },
  {
   "cell_type": "code",
   "execution_count": null,
   "metadata": {},
   "outputs": [],
   "source": []
  }
 ],
 "metadata": {
  "kernelspec": {
   "display_name": "lang3",
   "language": "python",
   "name": "python3"
  },
  "language_info": {
   "codemirror_mode": {
    "name": "ipython",
    "version": 3
   },
   "file_extension": ".py",
   "mimetype": "text/x-python",
   "name": "python",
   "nbconvert_exporter": "python",
   "pygments_lexer": "ipython3",
   "version": "3.11.0"
  }
 },
 "nbformat": 4,
 "nbformat_minor": 2
}
